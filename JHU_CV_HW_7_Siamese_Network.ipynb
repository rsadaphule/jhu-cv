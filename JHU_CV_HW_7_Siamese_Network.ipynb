{
  "nbformat": 4,
  "nbformat_minor": 0,
  "metadata": {
    "colab": {
      "provenance": [],
      "machine_shape": "hm",
      "gpuType": "A100",
      "authorship_tag": "ABX9TyPFqmNWy3CdWvSWquDkF5JY",
      "include_colab_link": true
    },
    "kernelspec": {
      "name": "python3",
      "display_name": "Python 3"
    },
    "language_info": {
      "name": "python"
    },
    "accelerator": "GPU"
  },
  "cells": [
    {
      "cell_type": "markdown",
      "metadata": {
        "id": "view-in-github",
        "colab_type": "text"
      },
      "source": [
        "<a href=\"https://colab.research.google.com/github/rsadaphule/jhu-cv/blob/main/JHU_CV_HW_7_Siamese_Network.ipynb\" target=\"_parent\"><img src=\"https://colab.research.google.com/assets/colab-badge.svg\" alt=\"Open In Colab\"/></a>"
      ]
    },
    {
      "cell_type": "code",
      "execution_count": null,
      "metadata": {
        "id": "6XMH-xeR0WC9"
      },
      "outputs": [],
      "source": []
    },
    {
      "cell_type": "markdown",
      "source": [
        "Step 1: Import Necessary Libraries"
      ],
      "metadata": {
        "id": "eiSGLmrx0cZ7"
      }
    },
    {
      "cell_type": "code",
      "source": [
        "import numpy as np\n",
        "import matplotlib.pyplot as plt\n",
        "from tensorflow.keras.datasets import cifar10\n",
        "from tensorflow.keras.applications import VGG16\n",
        "from tensorflow.keras.layers import Input, Flatten, Dense, Lambda\n",
        "from tensorflow.keras.models import Model\n",
        "import tensorflow.keras.backend as K\n",
        "from sklearn.model_selection import train_test_split\n"
      ],
      "metadata": {
        "id": "ZTzh_C4p0c3L"
      },
      "execution_count": 1,
      "outputs": []
    },
    {
      "cell_type": "markdown",
      "source": [
        "Step 2: Load and Preprocess CIFAR-10 Dataset"
      ],
      "metadata": {
        "id": "bjdPT1oD0gUm"
      }
    },
    {
      "cell_type": "code",
      "source": [
        "# Load CIFAR-10 dataset\n",
        "(x_train, y_train), (x_test, y_test) = cifar10.load_data()\n",
        "\n",
        "# Normalize pixel values to be between 0 and 1\n",
        "x_train, x_test = x_train / 255.0, x_test / 255.0\n",
        "\n",
        "# Split training data into train and validation sets\n",
        "x_train, x_val, y_train, y_val = train_test_split(x_train, y_train, test_size=0.1, random_state=42)\n"
      ],
      "metadata": {
        "id": "M07VCiiL0eV8"
      },
      "execution_count": 2,
      "outputs": []
    },
    {
      "cell_type": "markdown",
      "source": [
        "Step 3: Create Pairs for Siamese Network\n",
        "This involves creating genuine (same class) and imposter (different class) pairs. You might want to write a function that generates these pairs along with their labels (1 for genuine, 0 for imposter)."
      ],
      "metadata": {
        "id": "0CRjrfa90lMR"
      }
    },
    {
      "cell_type": "code",
      "source": [
        "def create_pairs(x, digit_indices):\n",
        "    '''Positive and negative pair creation.\n",
        "    Alternates between positive and negative pairs.'''\n",
        "    pairs = []\n",
        "    labels = []\n",
        "\n",
        "    n = min([len(digit_indices[d]) for d in range(10)]) - 1\n",
        "\n",
        "    for d in range(10):\n",
        "        for i in range(n):\n",
        "            z1, z2 = digit_indices[d][i], digit_indices[d][i + 1]\n",
        "            pairs += [[x[z1], x[z2]]]\n",
        "            inc = np.random.randint(1, 10)\n",
        "            dn = (d + inc) % 10\n",
        "            z1, z2 = digit_indices[d][i], digit_indices[dn][i]\n",
        "            pairs += [[x[z1], x[z2]]]\n",
        "            labels += [1, 0]\n",
        "    return np.array(pairs), np.array(labels)\n",
        "\n",
        "# Create your digit_indices based on y_train and y_test, then create pairs and labels\n"
      ],
      "metadata": {
        "id": "ZGZ3ebE50ib4"
      },
      "execution_count": 3,
      "outputs": []
    },
    {
      "cell_type": "code",
      "source": [],
      "metadata": {
        "id": "emyYvmY10m9M"
      },
      "execution_count": 3,
      "outputs": []
    },
    {
      "cell_type": "markdown",
      "source": [
        "Step 4: Modify VGGNet-16 for Siamese Network\n",
        "Here, you'll modify VGGNet-16 by discarding the top layer and adding a custom layer to get the 4096-dimension feature vector."
      ],
      "metadata": {
        "id": "-67RzGhf0sen"
      }
    },
    {
      "cell_type": "code",
      "source": [
        "def create_base_network(input_shape):\n",
        "    '''Base network to be shared (eq. to feature extraction).'''\n",
        "    base_model = VGG16(weights='imagenet', include_top=False, input_shape=input_shape)\n",
        "    x = base_model.output\n",
        "    x = Flatten()(x)\n",
        "    x = Dense(4096, activation='relu')(x) # This is the feature embedding\n",
        "    return Model(base_model.input, x)\n",
        "\n",
        "input_shape = x_train.shape[1:]\n",
        "base_network = create_base_network(input_shape)\n",
        "\n",
        "input_a = Input(shape=input_shape)\n",
        "input_b = Input(shape=input_shape)\n",
        "\n",
        "# Because we re-use the same instance `base_network`,\n",
        "# the weights of the network will be shared across the two branches\n",
        "processed_a = base_network(input_a)\n",
        "processed_b = base_network(input_b)\n",
        "\n",
        "distance = Lambda(lambda tensors:K.abs(tensors[0] - tensors[1]))([processed_a, processed_b])\n",
        "outputs = Dense(1, activation='sigmoid')(distance)\n",
        "siamese_net = Model([input_a, input_b], outputs)\n"
      ],
      "metadata": {
        "id": "E6VttnDK0tLr"
      },
      "execution_count": 4,
      "outputs": []
    },
    {
      "cell_type": "markdown",
      "source": [
        "Step 5: Define Contrastive Loss Function"
      ],
      "metadata": {
        "id": "_OTylH5X0y4Q"
      }
    },
    {
      "cell_type": "code",
      "source": [
        "def contrastive_loss(y_true, y_pred, margin=1.0):\n",
        "    '''Contrastive loss from Hadsell-et-al.'06'''\n",
        "    # Ensure y_true is float32\n",
        "    y_true = K.cast(y_true, dtype='float32')\n",
        "\n",
        "    square_pred = K.square(y_pred)\n",
        "    margin_square = K.square(K.maximum(margin - y_pred, 0.0))\n",
        "    return K.mean(y_true * square_pred + (1 - y_true) * margin_square)"
      ],
      "metadata": {
        "id": "WIyaJlJn0vO2"
      },
      "execution_count": 12,
      "outputs": []
    },
    {
      "cell_type": "markdown",
      "source": [
        "Create Training and Validation Pairs"
      ],
      "metadata": {
        "id": "BJIDJ86s1dxQ"
      }
    },
    {
      "cell_type": "code",
      "source": [
        "import numpy as np\n",
        "\n",
        "def create_balanced_pairs(images, labels, n_pairs=10000, n_classes=10):\n",
        "    # Initialize placeholders for pairs and labels\n",
        "    pairs = []\n",
        "    pair_labels = []\n",
        "\n",
        "    # Number of pairs per class (half genuine, half imposter)\n",
        "    n_pairs_per_class = n_pairs // n_classes\n",
        "    n_genuine_per_class = n_pairs_per_class // 2\n",
        "    n_imposter_per_class = n_pairs_per_class - n_genuine_per_class\n",
        "\n",
        "    for class_id in range(n_classes):\n",
        "        # Indices for the current class & other classes\n",
        "        same_class_idx = np.where(labels == class_id)[0]\n",
        "        diff_class_idx = np.where(labels != class_id)[0]\n",
        "\n",
        "        # Generate genuine pairs\n",
        "        for _ in range(n_genuine_per_class):\n",
        "            idx1, idx2 = np.random.choice(same_class_idx, 2, replace=False)\n",
        "            pairs.append([images[idx1], images[idx2]])\n",
        "            pair_labels.append(1)\n",
        "\n",
        "        # Generate imposter pairs\n",
        "        for _ in range(n_imposter_per_class):\n",
        "            idx1 = np.random.choice(same_class_idx)\n",
        "            idx2 = np.random.choice(diff_class_idx)\n",
        "            pairs.append([images[idx1], images[idx2]])\n",
        "            pair_labels.append(0)\n",
        "\n",
        "    # Convert to numpy arrays\n",
        "    pairs = np.array(pairs, dtype='float32')\n",
        "    pair_labels = np.array(pair_labels, dtype='int32')\n",
        "\n",
        "    # Shuffle pairs and labels in unison\n",
        "    indices = np.random.permutation(pairs.shape[0])\n",
        "    pairs, pair_labels = pairs[indices], pair_labels[indices]\n",
        "\n",
        "    return pairs, pair_labels\n"
      ],
      "metadata": {
        "id": "6QFN0FL01Uu6"
      },
      "execution_count": 6,
      "outputs": []
    },
    {
      "cell_type": "code",
      "source": [
        "import numpy as np\n",
        "import itertools\n",
        "\n",
        "# Create training pairs\n",
        "x_train_pairs, y_train_pairs = create_balanced_pairs(x_train, y_train, n_pairs=10000)\n",
        "\n",
        "# Similarly, create validation pairs if necessary\n",
        "x_val_pairs, y_val_pairs = create_balanced_pairs(x_val, y_val, n_pairs=2000)\n",
        "\n",
        "# Ensure the data structure is correct\n",
        "x_train_pairs = np.array(x_train_pairs).reshape(-1, 2, 32, 32, 3)\n",
        "x_val_pairs = np.array(x_val_pairs).reshape(-1, 2, 32, 32, 3)\n"
      ],
      "metadata": {
        "id": "f7_QaTxD1YGa"
      },
      "execution_count": 9,
      "outputs": []
    },
    {
      "cell_type": "markdown",
      "source": [
        "Step 6: Compile and Train the Model"
      ],
      "metadata": {
        "id": "ZbbWpCsh027d"
      }
    },
    {
      "cell_type": "code",
      "source": [
        "siamese_net.compile(optimizer='adam', loss=contrastive_loss)\n",
        "\n",
        "# Assuming you've correctly defined `siamese_net` and `contrastive_loss` before this step\n",
        "history = siamese_net.fit(\n",
        "    [x_train_pairs[:, 0], x_train_pairs[:, 1]], y_train_pairs,\n",
        "    batch_size=128,\n",
        "    epochs=10,\n",
        "    validation_data=([x_val_pairs[:, 0], x_val_pairs[:, 1]], y_val_pairs)\n",
        ")\n"
      ],
      "metadata": {
        "colab": {
          "base_uri": "https://localhost:8080/"
        },
        "id": "H8MFY9ub00qZ",
        "outputId": "0164d6c3-bdb5-494f-9609-9df40ee2976a"
      },
      "execution_count": 13,
      "outputs": [
        {
          "output_type": "stream",
          "name": "stdout",
          "text": [
            "Epoch 1/10\n",
            "79/79 [==============================] - 16s 49ms/step - loss: 0.2481 - val_loss: 0.2449\n",
            "Epoch 2/10\n",
            "79/79 [==============================] - 2s 20ms/step - loss: 0.2438 - val_loss: 0.2482\n",
            "Epoch 3/10\n",
            "79/79 [==============================] - 2s 20ms/step - loss: 0.2389 - val_loss: 0.2372\n",
            "Epoch 4/10\n",
            "79/79 [==============================] - 2s 19ms/step - loss: 0.2353 - val_loss: 0.2355\n",
            "Epoch 5/10\n",
            "79/79 [==============================] - 2s 20ms/step - loss: 0.2332 - val_loss: 0.2388\n",
            "Epoch 6/10\n",
            "79/79 [==============================] - 2s 20ms/step - loss: 0.2357 - val_loss: 0.3167\n",
            "Epoch 7/10\n",
            "79/79 [==============================] - 2s 20ms/step - loss: 0.2360 - val_loss: 0.2395\n",
            "Epoch 8/10\n",
            "79/79 [==============================] - 2s 20ms/step - loss: 0.2411 - val_loss: 0.2550\n",
            "Epoch 9/10\n",
            "79/79 [==============================] - 2s 20ms/step - loss: 0.2435 - val_loss: 0.2320\n",
            "Epoch 10/10\n",
            "79/79 [==============================] - 2s 20ms/step - loss: 0.2316 - val_loss: 0.2445\n"
          ]
        }
      ]
    },
    {
      "cell_type": "markdown",
      "source": [
        "Step 7: Evaluate Model and Plot Learning Curves"
      ],
      "metadata": {
        "id": "y37-Z_Lu082g"
      }
    },
    {
      "cell_type": "code",
      "source": [
        "history = siamese_net.fit(\n",
        "    [x_train_pairs[:, 0], x_train_pairs[:, 1]], y_train_pairs,\n",
        "    batch_size=128,\n",
        "    epochs=10,\n",
        "    validation_data=([x_val_pairs[:, 0], x_val_pairs[:, 1]], y_val_pairs)\n",
        ")"
      ],
      "metadata": {
        "colab": {
          "base_uri": "https://localhost:8080/"
        },
        "id": "TyqVckNH04zH",
        "outputId": "ffe75dc6-d548-4b74-ecce-811773bef9b5"
      },
      "execution_count": 14,
      "outputs": [
        {
          "output_type": "stream",
          "name": "stdout",
          "text": [
            "Epoch 1/10\n",
            "79/79 [==============================] - 2s 21ms/step - loss: 0.2291 - val_loss: 0.2280\n",
            "Epoch 2/10\n",
            "79/79 [==============================] - 2s 20ms/step - loss: 0.2269 - val_loss: 0.2324\n",
            "Epoch 3/10\n",
            "79/79 [==============================] - 2s 20ms/step - loss: 0.2271 - val_loss: 0.2251\n",
            "Epoch 4/10\n",
            "79/79 [==============================] - 2s 20ms/step - loss: 0.2239 - val_loss: 0.2239\n",
            "Epoch 5/10\n",
            "79/79 [==============================] - 2s 19ms/step - loss: 0.2208 - val_loss: 0.2273\n",
            "Epoch 6/10\n",
            "79/79 [==============================] - 2s 19ms/step - loss: 0.2182 - val_loss: 0.2228\n",
            "Epoch 7/10\n",
            "79/79 [==============================] - 2s 20ms/step - loss: 0.2171 - val_loss: 0.2234\n",
            "Epoch 8/10\n",
            "79/79 [==============================] - 2s 20ms/step - loss: 0.2123 - val_loss: 0.2195\n",
            "Epoch 9/10\n",
            "79/79 [==============================] - 2s 20ms/step - loss: 0.2119 - val_loss: 0.2148\n",
            "Epoch 10/10\n",
            "79/79 [==============================] - 2s 20ms/step - loss: 0.2119 - val_loss: 0.2177\n"
          ]
        }
      ]
    },
    {
      "cell_type": "code",
      "source": [
        "import matplotlib.pyplot as plt\n",
        "\n",
        "# Plot training & validation loss values\n",
        "plt.figure(figsize=(10, 5))\n",
        "plt.plot(history.history['loss'], label='Train Loss')\n",
        "plt.plot(history.history['val_loss'], label='Validation Loss')\n",
        "plt.title('Model loss')\n",
        "plt.ylabel('Loss')\n",
        "plt.xlabel('Epoch')\n",
        "plt.legend(loc='upper right')\n",
        "plt.show()\n"
      ],
      "metadata": {
        "colab": {
          "base_uri": "https://localhost:8080/",
          "height": 487
        },
        "id": "TDPvAkLF1H_O",
        "outputId": "66d95ea1-a337-42d5-f8a3-738941f1227c"
      },
      "execution_count": 15,
      "outputs": [
        {
          "output_type": "display_data",
          "data": {
            "text/plain": [
              "<Figure size 1000x500 with 1 Axes>"
            ],
            "image/png": "[encoded data removed]"
          },
          "metadata": {}
        }
      ]
    },
    {
      "cell_type": "markdown",
      "source": [
        "# Compute similarity score for 2 similar images. The score should closer to 0"
      ],
      "metadata": {
        "id": "RHkW8p041K7v"
      }
    },
    {
      "cell_type": "code",
      "source": [
        "from tensorflow.keras.datasets import cifar10\n",
        "\n",
        "def preprocess_image(image):\n",
        "    '''Preprocess the image to fit your model.'''\n",
        "    image = image / 255.0  # Normalize to [0, 1]\n",
        "    image = np.resize(image, (32, 32, 3))  # Resize to match model input\n",
        "    return image\n",
        "\n",
        "\n",
        "\n",
        "# Load the CIFAR-10 data\n",
        "(x_train, y_train), (x_test, y_test) = cifar10.load_data()\n",
        "\n",
        "# For demonstration, let's use the first two images as img_a and img_b\n",
        "img_a = x_train[0]\n",
        "img_b = x_train[0]\n",
        "\n",
        "# Assume img_a and img_b are two images loaded from your dataset or elsewhere\n",
        "#img_a = preprocess_image(img_a)\n",
        "#img_b = preprocess_image(img_b)\n",
        "\n",
        "# Since our model expects batches of images, we need to add an extra dimension:\n",
        "img_a = np.expand_dims(img_a, axis=0)\n",
        "img_b = np.expand_dims(img_b, axis=0)\n",
        "\n",
        "# Predict\n",
        "prediction = siamese_net.predict([img_a, img_b])\n",
        "\n",
        "print(f\"Similarity score (closer to 0 means more similar): {prediction[0][0]}\")\n"
      ],
      "metadata": {
        "colab": {
          "base_uri": "https://localhost:8080/"
        },
        "id": "CEjwTrS_1LnF",
        "outputId": "a3ea1587-416b-4a43-fc0a-7c35dcd00663"
      },
      "execution_count": 52,
      "outputs": [
        {
          "output_type": "stream",
          "name": "stdout",
          "text": [
            "1/1 [==============================] - 0s 26ms/step\n",
            "Similarity score (closer to 0 means more similar): 0.3184245824813843\n"
          ]
        }
      ]
    },
    {
      "cell_type": "markdown",
      "source": [
        "# Compute similarity score for 2 dissimilar images. The score should closer to 1"
      ],
      "metadata": {
        "id": "1jML6QVrAKfX"
      }
    },
    {
      "cell_type": "code",
      "source": [
        "\n",
        "# For demonstration, let's use the first two images as img_a and img_b\n",
        "img_a = x_train[0]\n",
        "img_b = x_train[1]\n",
        "\n",
        "# Assume img_a and img_b are two images loaded from your dataset or elsewhere\n",
        "#img_a = preprocess_image(img_a)\n",
        "#img_b = preprocess_image(img_b)\n",
        "\n",
        "# Since our model expects batches of images, we need to add an extra dimension:\n",
        "img_a = np.expand_dims(img_a, axis=0)\n",
        "img_b = np.expand_dims(img_b, axis=0)\n",
        "\n",
        "# Predict\n",
        "prediction = siamese_net.predict([img_a, img_b])\n",
        "\n",
        "print(f\"Similarity score (closer to 0 means more similar): {prediction[0][0]}\")"
      ],
      "metadata": {
        "colab": {
          "base_uri": "https://localhost:8080/"
        },
        "id": "bvaWzmN2AH2D",
        "outputId": "57584060-51e9-4411-8e92-a13e64b3086b"
      },
      "execution_count": 51,
      "outputs": [
        {
          "output_type": "stream",
          "name": "stdout",
          "text": [
            "1/1 [==============================] - 0s 28ms/step\n",
            "Similarity score (closer to 0 means more similar): 0.999863862991333\n"
          ]
        }
      ]
    },
    {
      "cell_type": "code",
      "source": [],
      "metadata": {
        "id": "IVD3c2foAEaK"
      },
      "execution_count": null,
      "outputs": []
    },
    {
      "cell_type": "code",
      "source": [
        "img_a.shape"
      ],
      "metadata": {
        "colab": {
          "base_uri": "https://localhost:8080/"
        },
        "id": "reqfP_o39kY7",
        "outputId": "2a269494-94ba-498a-a2d4-486ad169b6b3"
      },
      "execution_count": 39,
      "outputs": [
        {
          "output_type": "execute_result",
          "data": {
            "text/plain": [
              "(1, 32, 32, 3)"
            ]
          },
          "metadata": {},
          "execution_count": 39
        }
      ]
    },
    {
      "cell_type": "code",
      "source": [
        "from PIL import Image\n",
        "import matplotlib.pyplot as plt\n",
        "import numpy as np\n",
        "\n",
        "# Function to resize image using PIL\n",
        "def resize_image_with_pil(image, new_size=(128, 128)):\n",
        "    image = Image.fromarray((image * 255).astype(np.uint8))\n",
        "    image = image.resize(new_size, Image.NEAREST)\n",
        "    return np.array(image)\n",
        "\n",
        "img_a_display = x_train[0] / 255.0\n",
        "img_b_display = x_train[0] / 255.0\n",
        "\n",
        "# Assuming img_a and img_b are your original CIFAR-10 images\n",
        "img_a_resized = resize_image_with_pil(img_a_display)\n",
        "img_b_resized = resize_image_with_pil(img_b_display)\n",
        "\n",
        "# Now display the resized images\n",
        "fig, axes = plt.subplots(1, 2, figsize=(10, 5))\n",
        "\n",
        "axes[0].imshow(img_a_resized, interpolation='nearest')\n",
        "axes[0].set_title('Image A')\n",
        "axes[0].axis('off')\n",
        "\n",
        "axes[1].imshow(img_b_resized, interpolation='nearest')\n",
        "axes[1].set_title('Image B')\n",
        "axes[1].axis('off')\n",
        "\n",
        "plt.show()\n"
      ],
      "metadata": {
        "colab": {
          "base_uri": "https://localhost:8080/",
          "height": 411
        },
        "id": "Baa08jXy9aFs",
        "outputId": "2736b046-ded6-4f79-f923-ebf8041b7362"
      },
      "execution_count": 44,
      "outputs": [
        {
          "output_type": "display_data",
          "data": {
            "text/plain": [
              "<Figure size 1000x500 with 2 Axes>"
            ],
            "image/png": "[encoded data removed]"
          },
          "metadata": {}
        }
      ]
    },
    {
      "cell_type": "markdown",
      "source": [],
      "metadata": {
        "id": "1t9Rh93b1GSO"
      }
    }
  ]
}