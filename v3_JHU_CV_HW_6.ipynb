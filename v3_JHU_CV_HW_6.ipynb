{
  "cells": [
    {
      "cell_type": "markdown",
      "metadata": {
        "id": "view-in-github",
        "colab_type": "text"
      },
      "source": [
        "<a href=\"https://colab.research.google.com/github/rsadaphule/jhu-cv/blob/main/v3_JHU_CV_HW_6.ipynb\" target=\"_parent\"><img src=\"https://colab.research.google.com/assets/colab-badge.svg\" alt=\"Open In Colab\"/></a>"
      ]
    },
    {
      "cell_type": "markdown",
      "source": [
        "##Write a python code for a conditional GAN (cGAN) architecture using the code in reference [1] and MNIST dataset to perform the following mappings (i.e., odd digit to even digit image image):\n"
      ],
      "metadata": {
        "id": "Uw2w0aS_9jCz"
      }
    },
    {
      "cell_type": "markdown",
      "source": [
        "**Step 1: Import Libraries**"
      ],
      "metadata": {
        "id": "-3zz1FWn9jF8"
      }
    },
    {
      "cell_type": "code",
      "source": [
        "import torch\n",
        "from torch import nn, optim\n",
        "from torchvision import datasets, transforms\n",
        "from torch.utils.data import DataLoader\n",
        "import matplotlib.pyplot as plt\n",
        "import numpy as np\n",
        "\n"
      ],
      "metadata": {
        "id": "bj_Dmp-db7iB"
      },
      "execution_count": 12,
      "outputs": []
    },
    {
      "cell_type": "markdown",
      "source": [
        "Step 2: Define the Generator and Discriminator\n",
        "In a cGAN, both the generator and discriminator receive the condition. Here, the condition is the image of an even digit."
      ],
      "metadata": {
        "id": "R1fOChTVe8S4"
      }
    },
    {
      "cell_type": "code",
      "source": [
        "class Generator(nn.Module):\n",
        "    def __init__(self):\n",
        "        super(Generator, self).__init__()\n",
        "        # Input: Concatenated image (even digit) and noise vector\n",
        "        self.model = nn.Sequential(\n",
        "            nn.Linear(110, 256),  # 28*28 + 10 (one-hot vector for condition)\n",
        "            nn.ReLU(True),\n",
        "            nn.Linear(256, 512),\n",
        "            nn.ReLU(True),\n",
        "            nn.Linear(512, 1024),\n",
        "            nn.ReLU(True),\n",
        "            nn.Linear(1024, 784),\n",
        "            nn.Tanh()  # Output images are normalized between -1 and 1\n",
        "        )\n",
        "\n",
        "    def forward(self, noise, labels):\n",
        "        # Concatenate noise and labels, process them, and return generated images\n",
        "        # This is a simplified representation\n",
        "        x = torch.cat((noise, labels), -1)\n",
        "        return self.model(x)\n"
      ],
      "metadata": {
        "id": "pu_c32ywcfbf"
      },
      "execution_count": 33,
      "outputs": []
    },
    {
      "cell_type": "code",
      "source": [
        "class Discriminator(nn.Module):\n",
        "    def __init__(self):\n",
        "        super(Discriminator, self).__init__()\n",
        "        # Assuming img_shape is the flattened image vector size\n",
        "        # and label_shape is the size of the one-hot encoded labels\n",
        "        img_shape = 784  # 28x28 pixels flattened\n",
        "        label_shape = 10  # One-hot encoded labels for digits 0-9\n",
        "        self.model = nn.Sequential(\n",
        "            nn.Linear(img_shape + label_shape, 1024),\n",
        "            nn.LeakyReLU(0.2, inplace=True),\n",
        "            nn.Dropout(0.3),\n",
        "            nn.Linear(1024, 512),\n",
        "            nn.LeakyReLU(0.2, inplace=True),\n",
        "            nn.Dropout(0.3),\n",
        "            nn.Linear(512, 256),\n",
        "            nn.LeakyReLU(0.2, inplace=True),\n",
        "            nn.Dropout(0.3),\n",
        "            nn.Linear(256, 1),\n",
        "            nn.Sigmoid()\n",
        "        )\n",
        "\n",
        "    def forward(self, img, labels):\n",
        "        # Flatten image if it's not already\n",
        "        img_flat = img.view(img.size(0), -1)\n",
        "        # Concatenate label (condition) and image\n",
        "        x = torch.cat((img_flat, labels), -1)\n",
        "        return self.model(x)\n"
      ],
      "metadata": {
        "id": "eU1LmU34e_D0"
      },
      "execution_count": 34,
      "outputs": []
    },
    {
      "cell_type": "markdown",
      "source": [
        "#Step 3: Prepare the Dataset\n",
        "For simplicity, this code assumes you have a way to pair even MNIST digits with their odd counterparts. This step might involve creating a custom dataset class that filters even digits and pairs them with artificially generated odd digits or labels."
      ],
      "metadata": {
        "id": "xdsnhzeofBfu"
      }
    },
    {
      "cell_type": "code",
      "source": [
        "from torch.utils.data import Subset\n",
        "from torchvision.datasets import MNIST\n",
        "\n",
        "class EvenToOddMNIST(Dataset):\n",
        "    def __init__(self, root='./data', train=True, transform=None, target_transform=None):\n",
        "        self.mnist = MNIST(root=root, train=train, download=True, transform=transform)\n",
        "        self.even_indices = [i for i, (_, label) in enumerate(self.mnist) if label % 2 == 0]\n",
        "        self.target_transform = target_transform\n",
        "\n",
        "    def __getitem__(self, index):\n",
        "        img, label = self.mnist[self.even_indices[index]]\n",
        "        # Increment label to get the next odd digit\n",
        "        odd_label = label + 1\n",
        "        # Convert label to one-hot encoding\n",
        "        label_one_hot = torch.zeros(10)\n",
        "        label_one_hot[odd_label] = 1.0\n",
        "        return img, label_one_hot\n",
        "\n",
        "    def __len__(self):\n",
        "        return len(self.even_indices)\n",
        "\n",
        "transform = transforms.Compose([\n",
        "    transforms.ToTensor(),\n",
        "    transforms.Normalize((0.5,), (0.5,))\n",
        "])\n",
        "\n",
        "# Example usage\n",
        "train_dataset = EvenToOddMNIST(root='./data', train=True, transform=transform)\n",
        "train_loader = DataLoader(train_dataset, batch_size=32, shuffle=True)\n"
      ],
      "metadata": {
        "id": "8eA0JwGTfbqu"
      },
      "execution_count": 35,
      "outputs": []
    },
    {
      "cell_type": "markdown",
      "source": [
        "#Step 4: Initialize Models, Optimizers, and Loss Function"
      ],
      "metadata": {
        "id": "dbwzDTs4fJSD"
      }
    },
    {
      "cell_type": "markdown",
      "source": [],
      "metadata": {
        "id": "mYIP50S6fMEn"
      }
    },
    {
      "cell_type": "code",
      "source": [
        "# Initialize the generator and discriminator\n",
        "generator = Generator()\n",
        "discriminator = Discriminator()\n",
        "\n",
        "# Optimizers\n",
        "g_optimizer = optim.Adam(generator.parameters(), lr=0.0002)\n",
        "d_optimizer = optim.Adam(discriminator.parameters(), lr=0.0002)\n",
        "\n",
        "# Loss function\n",
        "criterion = nn.BCELoss()\n",
        "\n",
        "# Move models to GPU if available\n",
        "device = torch.device(\"cuda\" if torch.cuda.is_available() else \"cpu\")\n",
        "generator.to(device)\n",
        "discriminator.to(device)\n"
      ],
      "metadata": {
        "colab": {
          "base_uri": "https://localhost:8080/"
        },
        "id": "_AKvZEo_fCcS",
        "outputId": "762ce7ec-958c-4fc6-9d98-8ca2bb06d136"
      },
      "execution_count": 36,
      "outputs": [
        {
          "output_type": "execute_result",
          "data": {
            "text/plain": [
              "Discriminator(\n",
              "  (model): Sequential(\n",
              "    (0): Linear(in_features=794, out_features=1024, bias=True)\n",
              "    (1): LeakyReLU(negative_slope=0.2, inplace=True)\n",
              "    (2): Dropout(p=0.3, inplace=False)\n",
              "    (3): Linear(in_features=1024, out_features=512, bias=True)\n",
              "    (4): LeakyReLU(negative_slope=0.2, inplace=True)\n",
              "    (5): Dropout(p=0.3, inplace=False)\n",
              "    (6): Linear(in_features=512, out_features=256, bias=True)\n",
              "    (7): LeakyReLU(negative_slope=0.2, inplace=True)\n",
              "    (8): Dropout(p=0.3, inplace=False)\n",
              "    (9): Linear(in_features=256, out_features=1, bias=True)\n",
              "    (10): Sigmoid()\n",
              "  )\n",
              ")"
            ]
          },
          "metadata": {},
          "execution_count": 36
        }
      ]
    },
    {
      "cell_type": "markdown",
      "source": [
        "Step 5: Training Loop\n",
        "The training loop involves feeding both the noise (plus condition) to the generator and the real images (plus condition) to the discriminator. For simplicity, this example won't include the complete loop but focus on the key parts involving conditions."
      ],
      "metadata": {
        "id": "c1A3STg8fMvA"
      }
    },
    {
      "cell_type": "code",
      "source": [
        "num_epochs = 20  # Adjust as per requirement\n",
        "g_loss_history = []  # To store generator loss\n",
        "d_loss_history = []  # To store discriminator loss\n",
        "\n",
        "for epoch in range(num_epochs):\n",
        "    g_loss_accum = 0.0\n",
        "    d_loss_accum = 0.0\n",
        "    for i, (imgs, labels) in enumerate(train_loader):\n",
        "        batch_size = imgs.shape[0]\n",
        "\n",
        "        # Labels for real and fake images\n",
        "        valid = torch.FloatTensor(batch_size, 1).fill_(1.0).to(device)\n",
        "        fake = torch.FloatTensor(batch_size, 1).fill_(0.0).to(device)\n",
        "\n",
        "        # Configure input\n",
        "        real_imgs = imgs.type(torch.FloatTensor).to(device)\n",
        "        labels = labels.type(torch.FloatTensor).to(device)\n",
        "\n",
        "        # Zero the parameter gradients\n",
        "        d_optimizer.zero_grad()\n",
        "\n",
        "        # Train Discriminator with real images\n",
        "        real_pred = discriminator(real_imgs, labels)\n",
        "        d_real_loss = criterion(real_pred, valid)\n",
        "\n",
        "        # Train Discriminator with fake images\n",
        "        noise = torch.FloatTensor(np.random.normal(0, 1, (batch_size, 100))).to(device)\n",
        "        gen_imgs = generator(noise, labels)\n",
        "        fake_pred = discriminator(gen_imgs.detach(), labels)\n",
        "        d_fake_loss = criterion(fake_pred, fake)\n",
        "\n",
        "        d_loss = (d_real_loss + d_fake_loss) / 2\n",
        "        d_loss.backward()\n",
        "        d_optimizer.step()\n",
        "\n",
        "        # Train Generator\n",
        "        g_optimizer.zero_grad()\n",
        "\n",
        "        # Generator's goal is to fool the discriminator\n",
        "        fake_pred = discriminator(gen_imgs, labels)\n",
        "        g_loss = criterion(fake_pred, valid)\n",
        "\n",
        "        g_loss.backward()\n",
        "        g_optimizer.step()\n",
        "\n",
        "        g_loss_accum += g_loss.item()\n",
        "        d_loss_accum += d_loss.item()\n",
        "\n",
        "    g_loss_history.append(g_loss_accum / len(train_loader))\n",
        "    d_loss_history.append(d_loss_accum / len(train_loader))\n",
        "    print(f\"[Epoch {epoch+1}/{num_epochs}] [D loss: {d_loss_accum / len(train_loader)}] [G loss: {g_loss_accum / len(train_loader)}]\")\n",
        "\n",
        "\n",
        "\n",
        "plt.figure(figsize=(10, 5))\n",
        "plt.plot(g_loss_history, label='Generator Loss')\n",
        "plt.plot(d_loss_history, label='Discriminator Loss')\n",
        "plt.title(\"Training Losses Over Epochs\")\n",
        "plt.xlabel(\"Epoch\")\n",
        "plt.ylabel(\"Loss\")\n",
        "plt.legend()\n",
        "plt.show()"
      ],
      "metadata": {
        "colab": {
          "base_uri": "https://localhost:8080/",
          "height": 844
        },
        "id": "ZeQ0_VElfNeT",
        "outputId": "499ee978-f686-47ef-9beb-c34079fb0c63"
      },
      "execution_count": 37,
      "outputs": [
        {
          "output_type": "stream",
          "name": "stdout",
          "text": [
            "[Epoch 1/20] [D loss: 0.4320016092991501] [G loss: 3.5418258740702027]\n",
            "[Epoch 2/20] [D loss: 0.5953073295362601] [G loss: 1.163645831565019]\n",
            "[Epoch 3/20] [D loss: 0.20120259253116257] [G loss: 3.219106620537226]\n",
            "[Epoch 4/20] [D loss: 0.31271351368339234] [G loss: 4.225330708988835]\n",
            "[Epoch 5/20] [D loss: 0.15047090189327403] [G loss: 3.860765184213179]\n",
            "[Epoch 6/20] [D loss: 0.1535321959514583] [G loss: 3.7559057312518553]\n",
            "[Epoch 7/20] [D loss: 0.1914964861129441] [G loss: 3.3821973985549945]\n",
            "[Epoch 8/20] [D loss: 0.1997144046358748] [G loss: 3.361302873964165]\n",
            "[Epoch 9/20] [D loss: 0.2536279835966527] [G loss: 2.844628026195824]\n",
            "[Epoch 10/20] [D loss: 0.22628308138901007] [G loss: 3.0189307882832344]\n",
            "[Epoch 11/20] [D loss: 0.239329011916888] [G loss: 2.87071710049201]\n",
            "[Epoch 12/20] [D loss: 0.25011913169280436] [G loss: 2.7719676190756926]\n",
            "[Epoch 13/20] [D loss: 0.29798343820485274] [G loss: 2.475565295545243]\n",
            "[Epoch 14/20] [D loss: 0.3183480343435954] [G loss: 2.3311549501408724]\n",
            "[Epoch 15/20] [D loss: 0.3216535828183375] [G loss: 2.2643000011588903]\n",
            "[Epoch 16/20] [D loss: 0.3424676432963178] [G loss: 2.148922847175805]\n",
            "[Epoch 17/20] [D loss: 0.38649863263272927] [G loss: 1.9243878409298796]\n",
            "[Epoch 18/20] [D loss: 0.39867423796408086] [G loss: 1.8475733506058922]\n",
            "[Epoch 19/20] [D loss: 0.4370250869986809] [G loss: 1.6754196279090294]\n",
            "[Epoch 20/20] [D loss: 0.44734369163399407] [G loss: 1.6782931299504387]\n"
          ]
        },
        {
          "output_type": "display_data",
          "data": {
            "text/plain": [
              "<Figure size 1000x500 with 1 Axes>"
            ],
            "image/png": "[encoded data removed]"
          },
          "metadata": {}
        }
      ]
    },
    {
      "cell_type": "code",
      "source": [],
      "metadata": {
        "id": "Y3yn8bCgf59B"
      },
      "execution_count": null,
      "outputs": []
    },
    {
      "cell_type": "markdown",
      "source": [
        "#Verify"
      ],
      "metadata": {
        "id": "7gduUWqnkU8_"
      }
    },
    {
      "cell_type": "code",
      "source": [
        "from torchvision import datasets, transforms\n",
        "from torch.utils.data import DataLoader\n",
        "\n",
        "# Transformation for MNIST\n",
        "transform = transforms.Compose([\n",
        "    transforms.ToTensor(),\n",
        "    transforms.Normalize((0.5,), (0.5,))  # Normalize to [-1, 1]\n",
        "])\n",
        "\n",
        "# Load MNIST test dataset\n",
        "test_dataset = datasets.MNIST(root='./data', train=False, download=True, transform=transform)\n",
        "test_loader = DataLoader(test_dataset, batch_size=1, shuffle=True)\n"
      ],
      "metadata": {
        "id": "uAKvRPuVkV_0"
      },
      "execution_count": 38,
      "outputs": []
    },
    {
      "cell_type": "code",
      "source": [
        "for img, label in test_loader:\n",
        "    if label % 2 == 0:  # Check if the label is an even number\n",
        "        even_img = img\n",
        "        even_label = label\n",
        "        break\n"
      ],
      "metadata": {
        "id": "MQrDhXn7kXgk"
      },
      "execution_count": 39,
      "outputs": []
    },
    {
      "cell_type": "code",
      "source": [
        "# Assume generator takes noise vector and one-hot labels as input\n",
        "\n",
        "# Generate noise\n",
        "noise = torch.randn(1, 100, device=device)  # Example noise vector\n",
        "\n",
        "# Assuming 'one_hot_label' is prepared as before and on the correct device\n",
        "generator.eval()  # Ensure the generator is in evaluation mode\n",
        "\n",
        "with torch.no_grad():\n",
        "    generated_img = generator(noise, one_hot_label).cpu()\n",
        "\n",
        "# Proceed to visualize 'generated_img'\n",
        "\n"
      ],
      "metadata": {
        "id": "dIxSLWaskZr6"
      },
      "execution_count": 42,
      "outputs": []
    },
    {
      "cell_type": "code",
      "source": [
        "import numpy as np\n",
        "import matplotlib.pyplot as plt\n",
        "\n",
        "def imshow(img):\n",
        "    # Check if the image is flattened and reshape it to 2D if necessary\n",
        "    print(img.dim())\n",
        "    if img.dim() == 2:  # If the tensor is 1D (flattened image), reshape it\n",
        "        img = img.view(28, 28)  # Reshape to 28x28 for MNIST images\n",
        "    elif img.dim() == 3 and img.shape[0] == 1:  # If there's an extra channel dimension\n",
        "        img = img.squeeze(0)  # Remove the channel dimension for grayscale images\n",
        "\n",
        "    img = img.cpu()  # Ensure the tensor is moved to CPU\n",
        "    npimg = img.numpy()\n",
        "    plt.imshow(npimg, cmap='gray')\n",
        "    plt.show()\n",
        "\n",
        "\n",
        "# Now when you call imshow, it should work regardless of whether the tensor is on the CPU or GPU\n",
        "print(f\"Original even digit label: {even_label.item()}\")\n",
        "imshow(even_img.squeeze())\n",
        "\n",
        "# Assuming `generated_img` is the output from your generator\n",
        "print(\"Generated digit:\")\n",
        "imshow(generated_img)\n"
      ],
      "metadata": {
        "colab": {
          "base_uri": "https://localhost:8080/",
          "height": 914
        },
        "id": "0J76nedhkb3h",
        "outputId": "9bbbf2d0-6968-468f-d9e1-8544ca2173e7"
      },
      "execution_count": 50,
      "outputs": [
        {
          "output_type": "stream",
          "name": "stdout",
          "text": [
            "Original even digit label: 8\n",
            "2\n"
          ]
        },
        {
          "output_type": "display_data",
          "data": {
            "text/plain": [
              "<Figure size 640x480 with 1 Axes>"
            ],
            "image/png": "[encoded data removed]"
          },
          "metadata": {}
        },
        {
          "output_type": "stream",
          "name": "stdout",
          "text": [
            "Generated digit:\n",
            "2\n"
          ]
        },
        {
          "output_type": "display_data",
          "data": {
            "text/plain": [
              "<Figure size 640x480 with 1 Axes>"
            ],
            "image/png": "[encoded data removed]"
          },
          "metadata": {}
        }
      ]
    },
    {
      "cell_type": "code",
      "source": [],
      "metadata": {
        "id": "MTuLMULDlAD4"
      },
      "execution_count": null,
      "outputs": []
    }
  ],
  "metadata": {
    "accelerator": "GPU",
    "colab": {
      "gpuType": "V100",
      "machine_shape": "hm",
      "provenance": [],
      "authorship_tag": "ABX9TyMaC5i4neoUs3PJhfbNiQXe",
      "include_colab_link": true
    },
    "kernelspec": {
      "display_name": "Python 3",
      "name": "python3"
    },
    "language_info": {
      "name": "python"
    }
  },
  "nbformat": 4,
  "nbformat_minor": 0
}