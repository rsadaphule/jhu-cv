{
  "cells": [
    {
      "cell_type": "markdown",
      "metadata": {
        "id": "view-in-github",
        "colab_type": "text"
      },
      "source": [
        "<a href=\"https://colab.research.google.com/github/rsadaphule/jhu-cv/blob/main/v3_JHU_CV_HW_6.ipynb\" target=\"_parent\"><img src=\"https://colab.research.google.com/assets/colab-badge.svg\" alt=\"Open In Colab\"/></a>"
      ]
    },
    {
      "cell_type": "markdown",
      "source": [
        "##Write a python code for a conditional GAN (cGAN) architecture using the code in reference [1] and MNIST dataset to perform the following mappings (i.e., odd digit to even digit image image):\n"
      ],
      "metadata": {
        "id": "Uw2w0aS_9jCz"
      }
    },
    {
      "cell_type": "markdown",
      "source": [
        "**Step 1: Import Libraries**"
      ],
      "metadata": {
        "id": "-3zz1FWn9jF8"
      }
    },
    {
      "cell_type": "code",
      "source": [
        "import torch\n",
        "from torch import nn, optim\n",
        "from torchvision import datasets, transforms\n",
        "from torch.utils.data import DataLoader\n",
        "import matplotlib.pyplot as plt\n",
        "import numpy as np\n",
        "\n"
      ],
      "metadata": {
        "id": "bj_Dmp-db7iB"
      },
      "execution_count": 5,
      "outputs": []
    },
    {
      "cell_type": "markdown",
      "source": [
        "Step 2: Define the Generator and Discriminator\n",
        "In a cGAN, both the generator and discriminator receive the condition. Here, the condition is the image of an even digit."
      ],
      "metadata": {
        "id": "R1fOChTVe8S4"
      }
    },
    {
      "cell_type": "code",
      "source": [
        "class Generator(nn.Module):\n",
        "    def __init__(self):\n",
        "        super(Generator, self).__init__()\n",
        "        # Input: Concatenated image (even digit) and noise vector\n",
        "        self.model = nn.Sequential(\n",
        "            nn.Linear(110, 256),  # 28*28 + 10 (one-hot vector for condition)\n",
        "            nn.ReLU(True),\n",
        "            nn.Linear(256, 512),\n",
        "            nn.ReLU(True),\n",
        "            nn.Linear(512, 1024),\n",
        "            nn.ReLU(True),\n",
        "            nn.Linear(1024, 784),\n",
        "            nn.Tanh()  # Output images are normalized between -1 and 1\n",
        "        )\n",
        "\n",
        "    def forward(self, noise, labels):\n",
        "        # Concatenate noise and labels, process them, and return generated images\n",
        "        # This is a simplified representation\n",
        "        x = torch.cat((noise, labels), -1)\n",
        "        return self.model(x)\n"
      ],
      "metadata": {
        "id": "pu_c32ywcfbf"
      },
      "execution_count": 6,
      "outputs": []
    },
    {
      "cell_type": "code",
      "source": [
        "class Discriminator(nn.Module):\n",
        "    def __init__(self):\n",
        "        super(Discriminator, self).__init__()\n",
        "        # Assuming img_shape is the flattened image vector size\n",
        "        # and label_shape is the size of the one-hot encoded labels\n",
        "        img_shape = 784  # 28x28 pixels flattened\n",
        "        label_shape = 10  # One-hot encoded labels for digits 0-9\n",
        "        self.model = nn.Sequential(\n",
        "            nn.Linear(img_shape + label_shape, 1024),\n",
        "            nn.LeakyReLU(0.2, inplace=True),\n",
        "            nn.Dropout(0.3),\n",
        "            nn.Linear(1024, 512),\n",
        "            nn.LeakyReLU(0.2, inplace=True),\n",
        "            nn.Dropout(0.3),\n",
        "            nn.Linear(512, 256),\n",
        "            nn.LeakyReLU(0.2, inplace=True),\n",
        "            nn.Dropout(0.3),\n",
        "            nn.Linear(256, 1),\n",
        "            nn.Sigmoid()\n",
        "        )\n",
        "\n",
        "    def forward(self, img, labels):\n",
        "        # Flatten image if it's not already\n",
        "        img_flat = img.view(img.size(0), -1)\n",
        "        # Concatenate label (condition) and image\n",
        "        x = torch.cat((img_flat, labels), -1)\n",
        "        return self.model(x)\n"
      ],
      "metadata": {
        "id": "eU1LmU34e_D0"
      },
      "execution_count": 7,
      "outputs": []
    },
    {
      "cell_type": "markdown",
      "source": [
        "#Step 3: Prepare the Dataset\n",
        "For simplicity, this code assumes you have a way to pair even MNIST digits with their odd counterparts. This step might involve creating a custom dataset class that filters even digits and pairs them with artificially generated odd digits or labels."
      ],
      "metadata": {
        "id": "xdsnhzeofBfu"
      }
    },
    {
      "cell_type": "code",
      "source": [
        "from torch.utils.data import Subset\n",
        "from torchvision.datasets import MNIST\n",
        "from torch.utils.data import Dataset\n",
        "\n",
        "class EvenToOddMNIST(Dataset):\n",
        "    def __init__(self, root='./data', train=True, transform=None, target_transform=None):\n",
        "        self.mnist = MNIST(root=root, train=train, download=True, transform=transform)\n",
        "        self.even_indices = [i for i, (_, label) in enumerate(self.mnist) if label % 2 == 0]\n",
        "        self.target_transform = target_transform\n",
        "\n",
        "    def __getitem__(self, index):\n",
        "        img, label = self.mnist[self.even_indices[index]]\n",
        "        # Increment label to get the next odd digit\n",
        "        odd_label = label + 1\n",
        "        # Convert label to one-hot encoding\n",
        "        label_one_hot = torch.zeros(10)\n",
        "        label_one_hot[odd_label] = 1.0\n",
        "        return img, label_one_hot\n",
        "\n",
        "    def __len__(self):\n",
        "        return len(self.even_indices)\n",
        "\n",
        "transform = transforms.Compose([\n",
        "    transforms.ToTensor(),\n",
        "    transforms.Normalize((0.5,), (0.5,))\n",
        "])\n",
        "\n",
        "# Example usage\n",
        "train_dataset = EvenToOddMNIST(root='./data', train=True, transform=transform)\n",
        "train_loader = DataLoader(train_dataset, batch_size=32, shuffle=True)\n"
      ],
      "metadata": {
        "id": "8eA0JwGTfbqu",
        "colab": {
          "base_uri": "https://localhost:8080/"
        },
        "outputId": "cfe10fa9-851d-4ff5-ca36-b0054711d713"
      },
      "execution_count": 9,
      "outputs": [
        {
          "output_type": "stream",
          "name": "stdout",
          "text": [
            "Downloading http://yann.lecun.com/exdb/mnist/train-images-idx3-ubyte.gz\n",
            "Downloading http://yann.lecun.com/exdb/mnist/train-images-idx3-ubyte.gz to ./data/MNIST/raw/train-images-idx3-ubyte.gz\n"
          ]
        },
        {
          "output_type": "stream",
          "name": "stderr",
          "text": [
            "100%|██████████| 9912422/9912422 [00:00<00:00, 461936949.26it/s]"
          ]
        },
        {
          "output_type": "stream",
          "name": "stdout",
          "text": [
            "Extracting ./data/MNIST/raw/train-images-idx3-ubyte.gz to ./data/MNIST/raw\n"
          ]
        },
        {
          "output_type": "stream",
          "name": "stderr",
          "text": [
            "\n"
          ]
        },
        {
          "output_type": "stream",
          "name": "stdout",
          "text": [
            "\n",
            "Downloading http://yann.lecun.com/exdb/mnist/train-labels-idx1-ubyte.gz\n",
            "Downloading http://yann.lecun.com/exdb/mnist/train-labels-idx1-ubyte.gz to ./data/MNIST/raw/train-labels-idx1-ubyte.gz\n"
          ]
        },
        {
          "output_type": "stream",
          "name": "stderr",
          "text": [
            "100%|██████████| 28881/28881 [00:00<00:00, 26259634.47it/s]\n"
          ]
        },
        {
          "output_type": "stream",
          "name": "stdout",
          "text": [
            "Extracting ./data/MNIST/raw/train-labels-idx1-ubyte.gz to ./data/MNIST/raw\n",
            "\n",
            "Downloading http://yann.lecun.com/exdb/mnist/t10k-images-idx3-ubyte.gz\n",
            "Downloading http://yann.lecun.com/exdb/mnist/t10k-images-idx3-ubyte.gz to ./data/MNIST/raw/t10k-images-idx3-ubyte.gz\n"
          ]
        },
        {
          "output_type": "stream",
          "name": "stderr",
          "text": [
            "100%|██████████| 1648877/1648877 [00:00<00:00, 223165259.65it/s]\n"
          ]
        },
        {
          "output_type": "stream",
          "name": "stdout",
          "text": [
            "Extracting ./data/MNIST/raw/t10k-images-idx3-ubyte.gz to ./data/MNIST/raw\n",
            "\n",
            "Downloading http://yann.lecun.com/exdb/mnist/t10k-labels-idx1-ubyte.gz\n",
            "Downloading http://yann.lecun.com/exdb/mnist/t10k-labels-idx1-ubyte.gz to ./data/MNIST/raw/t10k-labels-idx1-ubyte.gz\n"
          ]
        },
        {
          "output_type": "stream",
          "name": "stderr",
          "text": [
            "100%|██████████| 4542/4542 [00:00<00:00, 4583861.59it/s]"
          ]
        },
        {
          "output_type": "stream",
          "name": "stdout",
          "text": [
            "Extracting ./data/MNIST/raw/t10k-labels-idx1-ubyte.gz to ./data/MNIST/raw\n",
            "\n"
          ]
        },
        {
          "output_type": "stream",
          "name": "stderr",
          "text": [
            "\n"
          ]
        }
      ]
    },
    {
      "cell_type": "markdown",
      "source": [
        "#Step 4: Initialize Models, Optimizers, and Loss Function"
      ],
      "metadata": {
        "id": "dbwzDTs4fJSD"
      }
    },
    {
      "cell_type": "markdown",
      "source": [],
      "metadata": {
        "id": "mYIP50S6fMEn"
      }
    },
    {
      "cell_type": "code",
      "source": [
        "# Initialize the generator and discriminator\n",
        "generator = Generator()\n",
        "discriminator = Discriminator()\n",
        "\n",
        "# Optimizers\n",
        "g_optimizer = optim.Adam(generator.parameters(), lr=0.0002)\n",
        "d_optimizer = optim.Adam(discriminator.parameters(), lr=0.0002)\n",
        "\n",
        "# Loss function\n",
        "criterion = nn.BCELoss()\n",
        "\n",
        "# Move models to GPU if available\n",
        "device = torch.device(\"cuda\" if torch.cuda.is_available() else \"cpu\")\n",
        "generator.to(device)\n",
        "discriminator.to(device)\n"
      ],
      "metadata": {
        "colab": {
          "base_uri": "https://localhost:8080/"
        },
        "id": "_AKvZEo_fCcS",
        "outputId": "f6e529af-116b-43df-f23a-bcf8a58dfde1"
      },
      "execution_count": 10,
      "outputs": [
        {
          "output_type": "execute_result",
          "data": {
            "text/plain": [
              "Discriminator(\n",
              "  (model): Sequential(\n",
              "    (0): Linear(in_features=794, out_features=1024, bias=True)\n",
              "    (1): LeakyReLU(negative_slope=0.2, inplace=True)\n",
              "    (2): Dropout(p=0.3, inplace=False)\n",
              "    (3): Linear(in_features=1024, out_features=512, bias=True)\n",
              "    (4): LeakyReLU(negative_slope=0.2, inplace=True)\n",
              "    (5): Dropout(p=0.3, inplace=False)\n",
              "    (6): Linear(in_features=512, out_features=256, bias=True)\n",
              "    (7): LeakyReLU(negative_slope=0.2, inplace=True)\n",
              "    (8): Dropout(p=0.3, inplace=False)\n",
              "    (9): Linear(in_features=256, out_features=1, bias=True)\n",
              "    (10): Sigmoid()\n",
              "  )\n",
              ")"
            ]
          },
          "metadata": {},
          "execution_count": 10
        }
      ]
    },
    {
      "cell_type": "markdown",
      "source": [
        "Step 5: Training Loop\n",
        "The training loop involves feeding both the noise (plus condition) to the generator and the real images (plus condition) to the discriminator. For simplicity, this example won't include the complete loop but focus on the key parts involving conditions."
      ],
      "metadata": {
        "id": "c1A3STg8fMvA"
      }
    },
    {
      "cell_type": "code",
      "source": [
        "num_epochs = 50  # Adjust as per requirement\n",
        "g_loss_history = []  # To store generator loss\n",
        "d_loss_history = []  # To store discriminator loss\n",
        "\n",
        "for epoch in range(num_epochs):\n",
        "    g_loss_accum = 0.0\n",
        "    d_loss_accum = 0.0\n",
        "    for i, (imgs, labels) in enumerate(train_loader):\n",
        "        batch_size = imgs.shape[0]\n",
        "\n",
        "        # Labels for real and fake images\n",
        "        valid = torch.FloatTensor(batch_size, 1).fill_(1.0).to(device)\n",
        "        fake = torch.FloatTensor(batch_size, 1).fill_(0.0).to(device)\n",
        "\n",
        "        # Configure input\n",
        "        real_imgs = imgs.type(torch.FloatTensor).to(device)\n",
        "        labels = labels.type(torch.FloatTensor).to(device)\n",
        "\n",
        "        # Zero the parameter gradients\n",
        "        d_optimizer.zero_grad()\n",
        "\n",
        "        # Train Discriminator with real images\n",
        "        real_pred = discriminator(real_imgs, labels)\n",
        "        d_real_loss = criterion(real_pred, valid)\n",
        "\n",
        "        # Train Discriminator with fake images\n",
        "        noise = torch.FloatTensor(np.random.normal(0, 1, (batch_size, 100))).to(device)\n",
        "        gen_imgs = generator(noise, labels)\n",
        "        fake_pred = discriminator(gen_imgs.detach(), labels)\n",
        "        d_fake_loss = criterion(fake_pred, fake)\n",
        "\n",
        "        d_loss = (d_real_loss + d_fake_loss) / 2\n",
        "        d_loss.backward()\n",
        "        d_optimizer.step()\n",
        "\n",
        "        # Train Generator\n",
        "        g_optimizer.zero_grad()\n",
        "\n",
        "        # Generator's goal is to fool the discriminator\n",
        "        fake_pred = discriminator(gen_imgs, labels)\n",
        "        g_loss = criterion(fake_pred, valid)\n",
        "\n",
        "        g_loss.backward()\n",
        "        g_optimizer.step()\n",
        "\n",
        "        g_loss_accum += g_loss.item()\n",
        "        d_loss_accum += d_loss.item()\n",
        "\n",
        "    g_loss_history.append(g_loss_accum / len(train_loader))\n",
        "    d_loss_history.append(d_loss_accum / len(train_loader))\n",
        "    print(f\"[Epoch {epoch+1}/{num_epochs}] [D loss: {d_loss_accum / len(train_loader)}] [G loss: {g_loss_accum / len(train_loader)}]\")\n",
        "\n",
        "\n",
        "\n",
        "plt.figure(figsize=(10, 5))\n",
        "plt.plot(g_loss_history, label='Generator Loss')\n",
        "plt.plot(d_loss_history, label='Discriminator Loss')\n",
        "plt.title(\"Training Losses Over Epochs\")\n",
        "plt.xlabel(\"Epoch\")\n",
        "plt.ylabel(\"Loss\")\n",
        "plt.legend()\n",
        "plt.show()"
      ],
      "metadata": {
        "colab": {
          "base_uri": "https://localhost:8080/",
          "height": 1000
        },
        "id": "ZeQ0_VElfNeT",
        "outputId": "13713e24-782a-4974-867b-a24e7e271430"
      },
      "execution_count": 11,
      "outputs": [
        {
          "output_type": "stream",
          "name": "stdout",
          "text": [
            "[Epoch 1/50] [D loss: 0.47562414768390326] [G loss: 2.7969553753765957]\n",
            "[Epoch 2/50] [D loss: 0.3518317455787983] [G loss: 2.443474840445529]\n",
            "[Epoch 3/50] [D loss: 0.23439807291829517] [G loss: 3.4203763556325253]\n",
            "[Epoch 4/50] [D loss: 0.13500812819722277] [G loss: 4.164071493965944]\n",
            "[Epoch 5/50] [D loss: 0.14094059350051857] [G loss: 4.444653581124841]\n",
            "[Epoch 6/50] [D loss: 0.13845702611241256] [G loss: 4.229760355132262]\n",
            "[Epoch 7/50] [D loss: 0.19585959772112702] [G loss: 3.4175992398613704]\n",
            "[Epoch 8/50] [D loss: 0.1971681699290096] [G loss: 3.287824034690857]\n",
            "[Epoch 9/50] [D loss: 0.2645063911304039] [G loss: 2.7833378649844005]\n",
            "[Epoch 10/50] [D loss: 0.24999335166592143] [G loss: 2.9348132715049378]\n",
            "[Epoch 11/50] [D loss: 0.22345686173813978] [G loss: 3.123980373855268]\n",
            "[Epoch 12/50] [D loss: 0.2661755957323533] [G loss: 2.759075340764383]\n",
            "[Epoch 13/50] [D loss: 0.2644273845757683] [G loss: 2.842793577405222]\n",
            "[Epoch 14/50] [D loss: 0.3062686869741262] [G loss: 2.421137853454871]\n",
            "[Epoch 15/50] [D loss: 0.3426720023058242] [G loss: 2.2409458678870293]\n",
            "[Epoch 16/50] [D loss: 0.38692065401087616] [G loss: 1.9599127397102802]\n",
            "[Epoch 17/50] [D loss: 0.3983471350756488] [G loss: 1.8991334303857965]\n",
            "[Epoch 18/50] [D loss: 0.43140656612571043] [G loss: 1.7511772386681232]\n",
            "[Epoch 19/50] [D loss: 0.45497093907276615] [G loss: 1.6488081308611044]\n",
            "[Epoch 20/50] [D loss: 0.47888756100565133] [G loss: 1.5169459683517572]\n",
            "[Epoch 21/50] [D loss: 0.4846544626154765] [G loss: 1.5051678385496656]\n",
            "[Epoch 22/50] [D loss: 0.48935717130948564] [G loss: 1.4605156890482291]\n",
            "[Epoch 23/50] [D loss: 0.49853155094475654] [G loss: 1.4415395720791144]\n",
            "[Epoch 24/50] [D loss: 0.5141057618398729] [G loss: 1.3884833020010636]\n",
            "[Epoch 25/50] [D loss: 0.5139039499834664] [G loss: 1.3720835367795443]\n",
            "[Epoch 26/50] [D loss: 0.5304622209253125] [G loss: 1.3328943622991476]\n",
            "[Epoch 27/50] [D loss: 0.5283692460385941] [G loss: 1.3113215219172893]\n",
            "[Epoch 28/50] [D loss: 0.5372341345357274] [G loss: 1.285241480375319]\n",
            "[Epoch 29/50] [D loss: 0.5402916137799783] [G loss: 1.2671366975260918]\n",
            "[Epoch 30/50] [D loss: 0.5438974210083355] [G loss: 1.239577133071138]\n",
            "[Epoch 31/50] [D loss: 0.5585677669001763] [G loss: 1.1914979482550425]\n",
            "[Epoch 32/50] [D loss: 0.5664407776713113] [G loss: 1.1571128651532072]\n",
            "[Epoch 33/50] [D loss: 0.5662388366176353] [G loss: 1.1392751089145718]\n",
            "[Epoch 34/50] [D loss: 0.5720862074231895] [G loss: 1.1517695913216555]\n",
            "[Epoch 35/50] [D loss: 0.5693985551531041] [G loss: 1.151904948298171]\n",
            "[Epoch 36/50] [D loss: 0.5729120107702992] [G loss: 1.1463710986352535]\n",
            "[Epoch 37/50] [D loss: 0.5748302370891654] [G loss: 1.1135789519276897]\n",
            "[Epoch 38/50] [D loss: 0.5816864196429283] [G loss: 1.0990722562123794]\n",
            "[Epoch 39/50] [D loss: 0.5836275898712059] [G loss: 1.081407042167709]\n",
            "[Epoch 40/50] [D loss: 0.5921684124076703] [G loss: 1.0637471076593998]\n",
            "[Epoch 41/50] [D loss: 0.5938190970076914] [G loss: 1.0564424711685636]\n",
            "[Epoch 42/50] [D loss: 0.5970986015173463] [G loss: 1.0497375285159998]\n",
            "[Epoch 43/50] [D loss: 0.5937645446000027] [G loss: 1.049005510814795]\n",
            "[Epoch 44/50] [D loss: 0.6032577309587772] [G loss: 1.011422029932771]\n",
            "[Epoch 45/50] [D loss: 0.6009120245882332] [G loss: 1.0343832281173697]\n",
            "[Epoch 46/50] [D loss: 0.6052457147203143] [G loss: 1.010469099898659]\n",
            "[Epoch 47/50] [D loss: 0.603918193736459] [G loss: 1.0026229552100383]\n",
            "[Epoch 48/50] [D loss: 0.6055702400957426] [G loss: 1.0097036150944725]\n",
            "[Epoch 49/50] [D loss: 0.6088279444005122] [G loss: 0.9882220268378806]\n",
            "[Epoch 50/50] [D loss: 0.612100731912766] [G loss: 0.975720842851734]\n"
          ]
        },
        {
          "output_type": "display_data",
          "data": {
            "text/plain": [
              "<Figure size 1000x500 with 1 Axes>"
            ],
            "image/png": "[encoded data removed]"
          },
          "metadata": {}
        }
      ]
    },
    {
      "cell_type": "code",
      "source": [],
      "metadata": {
        "id": "Y3yn8bCgf59B"
      },
      "execution_count": null,
      "outputs": []
    },
    {
      "cell_type": "markdown",
      "source": [
        "#Verify"
      ],
      "metadata": {
        "id": "7gduUWqnkU8_"
      }
    },
    {
      "cell_type": "code",
      "source": [
        "from torchvision import datasets, transforms\n",
        "from torch.utils.data import DataLoader\n",
        "\n",
        "# Transformation for MNIST\n",
        "transform = transforms.Compose([\n",
        "    transforms.ToTensor(),\n",
        "    transforms.Normalize((0.5,), (0.5,))  # Normalize to [-1, 1]\n",
        "])\n",
        "\n",
        "# Load MNIST test dataset\n",
        "test_dataset = datasets.MNIST(root='./data', train=False, download=True, transform=transform)\n",
        "test_loader = DataLoader(test_dataset, batch_size=1, shuffle=True)\n"
      ],
      "metadata": {
        "id": "uAKvRPuVkV_0"
      },
      "execution_count": 51,
      "outputs": []
    },
    {
      "cell_type": "code",
      "source": [
        "for img, label in test_loader:\n",
        "    if label % 2 == 1:  # Check if the label is an even number\n",
        "        odd_img = img\n",
        "        odd_label = label\n",
        "        break\n",
        "\n",
        "\n",
        "print(odd_label[0].numpy())\n",
        "\n"
      ],
      "metadata": {
        "id": "MQrDhXn7kXgk",
        "colab": {
          "base_uri": "https://localhost:8080/"
        },
        "outputId": "1fb65236-b29e-4a10-cdc0-15d86bce3a4e"
      },
      "execution_count": 52,
      "outputs": [
        {
          "output_type": "stream",
          "name": "stdout",
          "text": [
            "3\n"
          ]
        }
      ]
    },
    {
      "cell_type": "code",
      "source": [
        "import torch\n",
        "\n",
        "# Specify the desired output digit\n",
        "desired_output_digit = odd_label  # For example, we want to generate a \"9\"\n",
        "\n",
        "# Create a one-hot encoded vector for the desired digit\n",
        "one_hot_label = torch.zeros(10)  # Initialize a zero vector of length 10\n",
        "one_hot_label[desired_output_digit] = 1  # Set the index of the desired digit to 1\n",
        "\n",
        "# Ensure the one-hot label is the right shape for the generator's expected input\n",
        "# This often means unsqueezing to add batch dimensions if necessary\n",
        "one_hot_label = one_hot_label.unsqueeze(0)  # Add a batch dimension\n",
        "\n",
        "# If using a GPU, move the noise and label to the GPU\n",
        "device = torch.device(\"cuda\" if torch.cuda.is_available() else \"cpu\")\n",
        "one_hot_label = one_hot_label.to(device)\n",
        "noise = torch.randn(1, 100).to(device)  # Assuming the generator expects a 100-dimensional noise vector\n",
        "\n",
        "# Generate the image with the generator\n",
        "generator.eval()  # Set the generator to evaluation mode\n",
        "with torch.no_grad():\n",
        "    generated_img = generator(noise, one_hot_label).cpu()  # Generate the image\n"
      ],
      "metadata": {
        "id": "dIxSLWaskZr6"
      },
      "execution_count": 53,
      "outputs": []
    },
    {
      "cell_type": "code",
      "source": [
        "import numpy as np\n",
        "import matplotlib.pyplot as plt\n",
        "\n",
        "def imshow(img):\n",
        "    # Check if the image is flattened and reshape it to 2D if necessary\n",
        "    print(img.dim())\n",
        "    if img.dim() == 2:  # If the tensor is 1D (flattened image), reshape it\n",
        "        img = img.view(28, 28)  # Reshape to 28x28 for MNIST images\n",
        "    elif img.dim() == 3 and img.shape[0] == 1:  # If there's an extra channel dimension\n",
        "        img = img.squeeze(0)  # Remove the channel dimension for grayscale images\n",
        "\n",
        "    img = img.cpu()  # Ensure the tensor is moved to CPU\n",
        "    npimg = img.numpy()\n",
        "    plt.imshow(npimg, cmap='gray')\n",
        "    plt.show()\n",
        "\n",
        "\n",
        "# Now when you call imshow, it should work regardless of whether the tensor is on the CPU or GPU\n",
        "print(f\"Original odd digit label: {odd_label.item()}\")\n",
        "imshow(odd_img.squeeze())\n",
        "\n",
        "# Assuming `generated_img` is the output from your generator\n",
        "print(\"Generated digit:\")\n",
        "imshow(generated_img)\n"
      ],
      "metadata": {
        "colab": {
          "base_uri": "https://localhost:8080/",
          "height": 914
        },
        "id": "0J76nedhkb3h",
        "outputId": "d65f66c0-4693-45e3-a21a-211cce98369e"
      },
      "execution_count": 54,
      "outputs": [
        {
          "output_type": "stream",
          "name": "stdout",
          "text": [
            "Original odd digit label: 3\n",
            "2\n"
          ]
        },
        {
          "output_type": "display_data",
          "data": {
            "text/plain": [
              "<Figure size 640x480 with 1 Axes>"
            ],
            "image/png": "[encoded data removed]"
          },
          "metadata": {}
        },
        {
          "output_type": "stream",
          "name": "stdout",
          "text": [
            "Generated digit:\n",
            "2\n"
          ]
        },
        {
          "output_type": "display_data",
          "data": {
            "text/plain": [
              "<Figure size 640x480 with 1 Axes>"
            ],
            "image/png": "[encoded data removed]"
          },
          "metadata": {}
        }
      ]
    },
    {
      "cell_type": "code",
      "source": [],
      "metadata": {
        "id": "xvqTdgY0msC3"
      },
      "execution_count": 54,
      "outputs": []
    }
  ],
  "metadata": {
    "accelerator": "GPU",
    "colab": {
      "gpuType": "A100",
      "machine_shape": "hm",
      "provenance": [],
      "authorship_tag": "ABX9TyNQ4JU6i4bc/ITFsZgks5be",
      "include_colab_link": true
    },
    "kernelspec": {
      "display_name": "Python 3",
      "name": "python3"
    },
    "language_info": {
      "name": "python"
    }
  },
  "nbformat": 4,
  "nbformat_minor": 0
}